{
 "cells": [
  {
   "cell_type": "code",
   "execution_count": 84,
   "metadata": {},
   "outputs": [],
   "source": [
    "import sys, os \n",
    "sys.path.append(os.pardir)\n",
    "\n",
    "\n",
    "def compare_ticker_lists(previous_ticker_list, current_ticker_list):\n",
    "    \"\"\"이전 ticker 리스트와 현재 ticker 리스트를 비교하여 변경된 내역을 확인하는 함수\"\"\"\n",
    "    added_tickers = set(current_ticker_list) - set(previous_ticker_list)\n",
    "    removed_tickers = set(previous_ticker_list) - set(current_ticker_list)\n",
    "    \n",
    "    return added_tickers, removed_tickers\n",
    "\n",
    "def insert_ticker_list(added_tickers):\n",
    "    added_tickers = list(added_tickers)\n",
    "\n",
    "    ticker_name = []\n",
    "    for i in range(len(added_tickers)):\n",
    "        ticker_name.append(stock.get_market_ticker_name(added_tickers[i]))\n",
    "\n",
    "\n",
    "    data = { \n",
    "        \"ticker\" : added_tickers ,\n",
    "        \"ticker_name\" : ticker_name ,\n",
    "        \"comment\" : '신규추가' ,\n",
    "        \"insert_dt\" : DateConverter.convert_to_dash_format(StockDay.get_now_date()),\n",
    "        \"update_dt\" : DateConverter.convert_to_dash_format(StockDay.get_now_date()),\n",
    "        \"use_yn\" : 'Y'\n",
    "    }\n",
    "\n",
    "    added_tickers = pd.DataFrame(data)\n",
    "    added_tickers.to_csv(\"./data/ticker_list.csv\",mode='a', header=False)\n",
    "    added_tickers_reindex = pd.read_csv(\"./data/ticker_list.csv\" ,index_col=0)\n",
    "    added_tickers_reindex=added_tickers_reindex.reset_index(drop=True)\n",
    "    added_tickers_reindex.to_csv(\"./data/ticker_list.csv\")\n",
    "\n",
    "def delete_ticker_list(removed_tickers):\n",
    "    removed_tickers = list(removed_tickers)\n",
    "    removed_tickers = pd.read_csv(\"./data/ticker_list.csv\" ,index_col=0)\n",
    "    removed_tickers.loc[removed_tickers['ticker'].isin(removed_tickers),'use_yn'] = 'N'\n",
    "    removed_tickers.to_csv(\"./data/ticker_list.csv\")\n",
    "\n",
    "def arange_ticker_list():\n",
    "# 주기적으로 ticker 리스트를 가져오고 변경된 내역을 확인\n",
    "    logging_text(\"티커 생성, 삭제 작업 시작\")\n",
    "    current_ticker_list = stock.get_market_ticker_list(market='KOSPI')\n",
    "    previous_ticker_list = pd.read_csv('./data/ticker_list.csv',index_col=0)['ticker']\n",
    "    previous_ticker_list = previous_ticker_list.values.tolist()\n",
    "\n",
    "    added_tickers, removed_tickers = compare_ticker_lists(previous_ticker_list, current_ticker_list)\n",
    "\n",
    "    if added_tickers:\n",
    "        logging_text(\"신규 티커 추가:\"+ str(added_tickers))\n",
    "        insert_ticker_list(added_tickers)\n",
    "\n",
    "    if removed_tickers:\n",
    "        logging_text(\"기존 티커 삭제:\"+ str(removed_tickers))\n",
    "        delete_ticker_list(removed_tickers)\n",
    "\n",
    "    logging_text(\"티커 생성, 삭제 작업 종료\")\n",
    "\n",
    "\n"
   ]
  },
  {
   "cell_type": "code",
   "execution_count": 69,
   "metadata": {},
   "outputs": [],
   "source": []
  },
  {
   "cell_type": "code",
   "execution_count": 70,
   "metadata": {},
   "outputs": [
    {
     "name": "stdout",
     "output_type": "stream",
     "text": [
      "953\n",
      "[174, 353, 517, 292, 46, 884, 341, 638, 250, 85]\n",
      "943\n"
     ]
    }
   ],
   "source": [
    "import random\n",
    "\n",
    "dummey_list= stock.get_market_ticker_list(market='KOSPI')\n",
    "print(len(dummey_list))\n",
    "n = 10  # 생성할 랜덤 값의 개수\n",
    "a = 1  # 범위의 시작 값\n",
    "b = len(dummey_list)  # 범위의 끝 값\n",
    "random_values = [random.randint(a, b) for _ in range(n)]  # a와 b 사이의 랜덤 정수 값 생성\n",
    "\n",
    "print(random_values)\n",
    "\n",
    "# 리스트 컴프리헨션을 사용하여 특정 인덱스의 값을 제외하고 새로운 리스트 생성\n",
    "dummey_list = [value for index, value in enumerate(dummey_list) if index not in random_values]\n",
    "print(len(dummey_list))\n"
   ]
  },
  {
   "cell_type": "code",
   "execution_count": 76,
   "metadata": {},
   "outputs": [],
   "source": []
  },
  {
   "cell_type": "code",
   "execution_count": null,
   "metadata": {},
   "outputs": [],
   "source": []
  }
 ],
 "metadata": {
  "kernelspec": {
   "display_name": "Python 3",
   "language": "python",
   "name": "python3"
  },
  "language_info": {
   "codemirror_mode": {
    "name": "ipython",
    "version": 3
   },
   "file_extension": ".py",
   "mimetype": "text/x-python",
   "name": "python",
   "nbconvert_exporter": "python",
   "pygments_lexer": "ipython3",
   "version": "3.11.8"
  }
 },
 "nbformat": 4,
 "nbformat_minor": 2
}
