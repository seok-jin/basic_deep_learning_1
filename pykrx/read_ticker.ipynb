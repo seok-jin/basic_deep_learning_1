{
 "cells": [
  {
   "cell_type": "code",
   "execution_count": 88,
   "metadata": {},
   "outputs": [],
   "source": [
    "from pykrx import stock\n",
    "from pykrx import bond\n",
    "# import numpy as np\n",
    "import pandas as pd \n",
    "import os.path  \n",
    "\n",
    "tickers = stock.get_market_ticker_list(market='KOSPI')\n",
    "# print(tickers)\n",
    "# tickers = np.array(tickers)\n",
    "data = { \n",
    "    \"ticker\" : tickers\n",
    "}\n",
    "df_tickers = pd.DataFrame(data)\n",
    "# tickers_len = tickers.shape[0]\n",
    "ticker_name = []\n",
    "\n",
    "for i in range(len(data[\"ticker\"])):\n",
    "    ticker_name.append(stock.get_market_ticker_name(data[\"ticker\"][i]))\n",
    "\n",
    "df_tickers.insert(1,\"ticker_name\",ticker_name,True)\n",
    "\n",
    "df_market_ohlcv = stock.get_market_ohlcv(\"20240314\")"
   ]
  },
  {
   "cell_type": "code",
   "execution_count": 117,
   "metadata": {},
   "outputs": [],
   "source": [
    "def get_market_ohlcv_to_csv(sdt,edt,ticker): \n",
    "    if os.path.isfile(\"./data/\"+ticker+\".csv\"):\n",
    "        # 기존에 있는 파일 \n",
    "        if get_last_ticker_date(edt,ticker):\n",
    "            print(\"종료\")\n",
    "        else:\n",
    "            df = stock.get_market_ohlcv(edt,edt,ticker)\n",
    "            df.to_csv(\"./data/\"+ticker+\".csv\",mode='a', header=False)\n",
    "    else: #신규\n",
    "        df = stock.get_market_ohlcv(sdt,edt,ticker)\n",
    "        df.to_csv(\"./data/\"+ticker+\".csv\", header=True)\n",
    "    \n",
    "def get_last_ticker_date(edt,ticker):\n",
    "    df_asis = pd.read_csv(\"./data/\"+ticker+\".csv\")\n",
    "    if df_asis.iloc[-1]['날짜'].replace('-','') == edt:\n",
    "        return True\n",
    "    else : \n",
    "        return False\n",
    "    del df_asis\n",
    "\n",
    "# df = stock.get_market_ohlcv(\"19000101\", \"20240314\", \"079980\")"
   ]
  },
  {
   "cell_type": "code",
   "execution_count": 119,
   "metadata": {},
   "outputs": [],
   "source": [
    "get_market_ohlcv_to_csv(\"19000101\", \"20240314\", \"079980\")\n",
    "# get_market_ohlcv_to_csv(\"20240314\", \"20240314\", \"079980\")"
   ]
  },
  {
   "cell_type": "code",
   "execution_count": null,
   "metadata": {},
   "outputs": [],
   "source": []
  }
 ],
 "metadata": {
  "kernelspec": {
   "display_name": "Python 3",
   "language": "python",
   "name": "python3"
  },
  "language_info": {
   "codemirror_mode": {
    "name": "ipython",
    "version": 3
   },
   "file_extension": ".py",
   "mimetype": "text/x-python",
   "name": "python",
   "nbconvert_exporter": "python",
   "pygments_lexer": "ipython3",
   "version": "3.11.8"
  }
 },
 "nbformat": 4,
 "nbformat_minor": 2
}
