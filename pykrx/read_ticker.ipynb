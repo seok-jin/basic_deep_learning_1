{
 "cells": [
  {
   "cell_type": "code",
   "execution_count": 27,
   "metadata": {},
   "outputs": [],
   "source": [
    "from pykrx import stock\n",
    "from pykrx import bond\n",
    "# import numpy as np\n",
    "import pandas as pd \n",
    "\n",
    "tickers = stock.get_market_ticker_list(market='KOSPI')\n",
    "# print(tickers)\n",
    "# tickers = np.array(tickers)\n",
    "data = { \n",
    "    \"ticker\" : tickers\n",
    "}\n",
    "df_tickers = pd.DataFrame(data)\n",
    "# tickers_len = tickers.shape[0]\n",
    "ticker_name = []\n",
    "\n",
    "for i in range(len(data[\"ticker\"])):\n",
    "    ticker_name.append(stock.get_market_ticker_name(data[\"ticker\"][i]))\n",
    "\n",
    "df_tickers.insert(1,\"ticker_name\",ticker_name,True)"
   ]
  },
  {
   "cell_type": "code",
   "execution_count": 74,
   "metadata": {},
   "outputs": [],
   "source": [
    "df = stock.get_market_ohlcv(\"19000101\", \"20240314\", \"079980\")"
   ]
  },
  {
   "cell_type": "code",
   "execution_count": 77,
   "metadata": {},
   "outputs": [],
   "source": [
    "df.to_csv(\"./data/079980.csv\")"
   ]
  },
  {
   "cell_type": "code",
   "execution_count": null,
   "metadata": {},
   "outputs": [],
   "source": []
  }
 ],
 "metadata": {
  "kernelspec": {
   "display_name": "Python 3",
   "language": "python",
   "name": "python3"
  },
  "language_info": {
   "codemirror_mode": {
    "name": "ipython",
    "version": 3
   },
   "file_extension": ".py",
   "mimetype": "text/x-python",
   "name": "python",
   "nbconvert_exporter": "python",
   "pygments_lexer": "ipython3",
   "version": "3.11.8"
  }
 },
 "nbformat": 4,
 "nbformat_minor": 2
}
