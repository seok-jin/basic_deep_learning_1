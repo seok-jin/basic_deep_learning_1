{
 "cells": [
  {
   "cell_type": "code",
   "execution_count": 127,
   "metadata": {},
   "outputs": [],
   "source": [
    "from pykrx import stock\n",
    "from pykrx import bond\n",
    "# import numpy as np\n",
    "import pandas as pd \n",
    "import os.path  \n",
    "import datetime as dt \n",
    "\n",
    "tickers = stock.get_market_ticker_list(market='KOSPI')\n",
    "# print(tickers)\n",
    "# tickers = np.array(tickers)\n",
    "data = { \n",
    "    \"ticker\" : tickers\n",
    "}\n",
    "df_tickers = pd.DataFrame(data)\n",
    "# tickers_len = tickers.shape[0]\n",
    "ticker_name = []\n",
    "\n",
    "for i in range(len(data[\"ticker\"])):\n",
    "    ticker_name.append(stock.get_market_ticker_name(data[\"ticker\"][i]))\n",
    "\n",
    "df_tickers.insert(1,\"ticker_name\",ticker_name,True)\n",
    "\n",
    "df_market_ohlcv = stock.get_market_ohlcv(\"20240314\")"
   ]
  },
  {
   "cell_type": "code",
   "execution_count": 117,
   "metadata": {},
   "outputs": [],
   "source": [
    "def get_market_ohlcv_to_csv(sdt,edt,ticker): \n",
    "    if os.path.isfile(\"./data/\"+ticker+\".csv\"):\n",
    "        # 기존에 있는 파일 \n",
    "        if get_last_ticker_date(edt,ticker):\n",
    "            print(\"종료\")\n",
    "        else:\n",
    "            df = stock.get_market_ohlcv(edt,edt,ticker)\n",
    "            df.to_csv(\"./data/\"+ticker+\".csv\",mode='a', header=False)\n",
    "    else: #신규\n",
    "        df = stock.get_market_ohlcv(sdt,edt,ticker)\n",
    "        df.to_csv(\"./data/\"+ticker+\".csv\", header=True)\n",
    "    \n",
    "def get_last_ticker_date(edt,ticker):\n",
    "    df_asis = pd.read_csv(\"./data/\"+ticker+\".csv\")\n",
    "    if df_asis.iloc[-1]['날짜'].replace('-','') == edt:\n",
    "        return True\n",
    "    else : \n",
    "        return False\n",
    "    del df_asis\n",
    "\n",
    "# df = stock.get_market_ohlcv(\"19000101\", \"20240314\", \"079980\")"
   ]
  },
  {
   "cell_type": "code",
   "execution_count": 119,
   "metadata": {},
   "outputs": [],
   "source": [
    "get_market_ohlcv_to_csv(\"19000101\", \"20240314\", \"079980\")\n",
    "# get_market_ohlcv_to_csv(\"20240314\", \"20240314\", \"079980\")"
   ]
  },
  {
   "cell_type": "code",
   "execution_count": 126,
   "metadata": {},
   "outputs": [
    {
     "data": {
      "text/plain": [
       "False"
      ]
     },
     "execution_count": 126,
     "metadata": {},
     "output_type": "execute_result"
    }
   ],
   "source": [
    "# '20240314' > '20240314'\n",
    "'2024-03-14' > '2024-03-14'"
   ]
  },
  {
   "cell_type": "code",
   "execution_count": 155,
   "metadata": {},
   "outputs": [
    {
     "name": "stdout",
     "output_type": "stream",
     "text": [
      "20240315\n"
     ]
    },
    {
     "data": {
      "text/plain": [
       "4"
      ]
     },
     "execution_count": 155,
     "metadata": {},
     "output_type": "execute_result"
    }
   ],
   "source": [
    "x = dt.datetime.now()\n",
    "# print((x.year)+str(x.month)+str(x.day))\n",
    "print(x.strftime(\"%Y%m%d\"))\n",
    "x.weekday()\n"
   ]
  },
  {
   "cell_type": "code",
   "execution_count": 144,
   "metadata": {},
   "outputs": [
    {
     "data": {
      "text/plain": [
       "datetime.datetime(2024, 3, 16, 10, 29, 38, 406568)"
      ]
     },
     "execution_count": 144,
     "metadata": {},
     "output_type": "execute_result"
    }
   ],
   "source": [
    "x +  dt.timedelta(days=1)\n"
   ]
  },
  {
   "cell_type": "code",
   "execution_count": 156,
   "metadata": {},
   "outputs": [],
   "source": [
    "import datetime as dt \n",
    "\n",
    "class stock_day :\n",
    "    def __init__(self) -> None:\n",
    "        self.market_date\n",
    "\n",
    "    def get_now_date():\n",
    "        now_date = dt.datetime.now()\n",
    "        return \n",
    "    \n",
    "    def get_weekdays(date):\n",
    "        date.weekday()\n",
    "    "
   ]
  },
  {
   "cell_type": "code",
   "execution_count": 157,
   "metadata": {},
   "outputs": [],
   "source": [
    "x = stock_day\n",
    "x.get_now_date()\n",
    "del x "
   ]
  },
  {
   "cell_type": "code",
   "execution_count": 162,
   "metadata": {},
   "outputs": [
    {
     "data": {
      "text/plain": [
       "datetime.datetime"
      ]
     },
     "execution_count": 162,
     "metadata": {},
     "output_type": "execute_result"
    }
   ],
   "source": [
    "a = dt.datetime.now()\n",
    "type(a)"
   ]
  },
  {
   "cell_type": "code",
   "execution_count": 165,
   "metadata": {},
   "outputs": [
    {
     "name": "stdout",
     "output_type": "stream",
     "text": [
      "datetime\n"
     ]
    }
   ],
   "source": [
    "## dt datetime\n",
    "## st yyyymmdd\n",
    "## rt yyyy-mm-dd\n",
    "\n",
    "def type_cheak(intype):\n",
    "    if type(intype) == type(dt.datetime.now()):\n",
    "        print('datetime')\n",
    "    else:\n",
    "        print('not')\n",
    "\n",
    "def conv_to_dt(input_str):\n",
    "    if len(input_str) == 8: \n",
    "        \n"
   ]
  },
  {
   "cell_type": "code",
   "execution_count": 170,
   "metadata": {},
   "outputs": [
    {
     "name": "stdout",
     "output_type": "stream",
     "text": [
      "1989-06-18 00:00:00\n"
     ]
    }
   ],
   "source": [
    "\n",
    "date_string = \"19890618\"  # 예시로 주어진 8자리 날짜 문자열\n",
    "\n",
    "# 연도, 월, 일 추출\n",
    "year = int(date_string[0:4])\n",
    "month = int(date_string[4:6])\n",
    "day = int(date_string[6:8])\n",
    "\n",
    "# datetime 객체 생성\n",
    "date_object = dt.datetime(year, month, day)\n",
    "\n",
    "print(date_object)  # 출력: 2024-03-15 00:00:00"
   ]
  },
  {
   "cell_type": "code",
   "execution_count": 171,
   "metadata": {},
   "outputs": [
    {
     "name": "stdout",
     "output_type": "stream",
     "text": [
      "2024-03-15 00:00:00\n",
      "2024-03-15 00:00:00\n"
     ]
    }
   ],
   "source": [
    "from datetime import datetime\n",
    "\n",
    "def convert_to_datetime(date_string):\n",
    "    # YYYYMMDD 형식인지 확인\n",
    "    if len(date_string) == 8 and date_string.isdigit():\n",
    "        year = int(date_string[0:4])\n",
    "        month = int(date_string[4:6])\n",
    "        day = int(date_string[6:8])\n",
    "        return datetime(year, month, day)\n",
    "    \n",
    "    # YYYY-MM-DD 형식인지 확인\n",
    "    elif len(date_string) == 10 and date_string[4] == '-' and date_string[7] == '-':\n",
    "        return datetime.strptime(date_string, '%Y-%m-%d')\n",
    "    \n",
    "    else:\n",
    "        raise ValueError(\"잘못된 날짜 형식입니다.\")\n",
    "\n",
    "# 예시\n",
    "date_string1 = \"20240315\"\n",
    "date_string2 = \"2024-03-15\"\n",
    "\n",
    "datetime1 = convert_to_datetime(date_string1)\n",
    "datetime2 = convert_to_datetime(date_string2)\n",
    "\n",
    "print(datetime1)  # 출력: 2024-03-15 00:00:00\n",
    "print(datetime2)  # 출력: 2024-03-15 00:00:00\n"
   ]
  },
  {
   "cell_type": "code",
   "execution_count": 172,
   "metadata": {},
   "outputs": [
    {
     "name": "stdout",
     "output_type": "stream",
     "text": [
      "2024-03-15\n",
      "2024-03-15\n"
     ]
    }
   ],
   "source": [
    "from datetime import datetime as dt\n",
    "\n",
    "def convert_to_dash_format(date):\n",
    "    # datetime 형식인 경우\n",
    "    if isinstance(date, dt):\n",
    "        return date.strftime('%Y-%m-%d')\n",
    "    \n",
    "    # 'YYYYMMDD' 형식인 경우\n",
    "    elif isinstance(date, str) and len(date) == 8 and date.isdigit():\n",
    "        return f\"{date[:4]}-{date[4:6]}-{date[6:8]}\"\n",
    "    \n",
    "    else:\n",
    "        raise ValueError(\"잘못된 날짜 형식입니다.\")\n",
    "\n",
    "# 예시\n",
    "datetime_obj = dt(2024, 3, 15)\n",
    "date_string = \"20240315\"\n",
    "\n",
    "converted_date1 = convert_to_dash_format(datetime_obj)\n",
    "converted_date2 = convert_to_dash_format(date_string)\n",
    "\n",
    "print(converted_date1)  # 출력: 2024-03-15\n",
    "print(converted_date2)  # 출력: 2024-03-15\n"
   ]
  },
  {
   "cell_type": "code",
   "execution_count": 211,
   "metadata": {},
   "outputs": [],
   "source": [
    "import sys, os\n",
    "sys.path.append(os.pardir)  # 부모 디렉터리의 파일을 가져올 수 있도록 설정\n",
    "from py_class.date_convert import DateConverter,StockDay\n",
    "\n",
    "SD = StockDay"
   ]
  },
  {
   "cell_type": "code",
   "execution_count": 202,
   "metadata": {},
   "outputs": [
    {
     "data": {
      "text/plain": [
       "'2024-03-15'"
      ]
     },
     "execution_count": 202,
     "metadata": {},
     "output_type": "execute_result"
    }
   ],
   "source": [
    "dt1 = DateConverter.convert_to_dash_format('20240315')\n",
    "dt1"
   ]
  },
  {
   "cell_type": "code",
   "execution_count": 213,
   "metadata": {},
   "outputs": [],
   "source": [
    "# True if DateConverter.convert_to_datetime('20240315').weekday() <= 4 else False\n",
    "del DateConverter,StockDay"
   ]
  },
  {
   "cell_type": "code",
   "execution_count": 214,
   "metadata": {},
   "outputs": [],
   "source": [
    "from datetime import datetime as dt\n",
    "\n",
    "class DateConverter:\n",
    "    @staticmethod\n",
    "    def convert_to_datetime(date_string):\n",
    "        # YYYYMMDD 형식인지 확인\n",
    "        if len(date_string) == 8 and date_string.isdigit():\n",
    "            year = int(date_string[0:4])\n",
    "            month = int(date_string[4:6])\n",
    "            day = int(date_string[6:8])\n",
    "            return dt(year, month, day)\n",
    "        \n",
    "        # YYYY-MM-DD 형식인지 확인\n",
    "        elif len(date_string) == 10 and date_string[4] == '-' and date_string[7] == '-':\n",
    "            return dt.strptime(date_string, '%Y-%m-%d')\n",
    "        \n",
    "        else:\n",
    "            raise ValueError(\"잘못된 날짜 형식입니다.\")\n",
    "    \n",
    "    @staticmethod\n",
    "    def convert_to_dash_format(date):\n",
    "        # datetime 형식인 경우\n",
    "        if isinstance(date, dt):\n",
    "            return date.strftime('%Y-%m-%d')\n",
    "        \n",
    "        # 'YYYYMMDD' 형식인 경우\n",
    "        elif isinstance(date, str) and len(date) == 8 and date.isdigit():\n",
    "            return f\"{date[:4]}-{date[4:6]}-{date[6:8]}\"\n",
    "        \n",
    "        else:\n",
    "            raise ValueError(\"잘못된 날짜 형식입니다.\")\n",
    "    \n",
    "    @staticmethod\n",
    "    def convert_to_yyyymmdd(date):\n",
    "        # 'YYYY-MM-DD' 형식인 경우\n",
    "        if isinstance(date, str) and len(date) == 10 and date[4] == '-' and date[7] == '-':\n",
    "            return date[:4] + date[5:7] + date[8:10]\n",
    "        \n",
    "        # datetime 형식인 경우\n",
    "        elif isinstance(date, dt):\n",
    "            return date.strftime('%Y%m%d')\n",
    "        \n",
    "        else:\n",
    "            raise ValueError(\"잘못된 날짜 형식입니다.\")\n",
    "        \n",
    "\n",
    "class StockDay :\n",
    "    def __init__(self) -> None:\n",
    "        self.market_date\n",
    "\n",
    "    def get_now_date():\n",
    "        now_date = dt.now()\n",
    "        return DateConverter.convert_to_yyyymmdd(now_date)\n",
    "    \n",
    "    def get_weekdays(date):\n",
    "        return True if DateConverter.convert_to_datetime(date).weekday() <= 4 else False"
   ]
  },
  {
   "cell_type": "code",
   "execution_count": 217,
   "metadata": {},
   "outputs": [
    {
     "data": {
      "text/plain": [
       "True"
      ]
     },
     "execution_count": 217,
     "metadata": {},
     "output_type": "execute_result"
    }
   ],
   "source": [
    "SD = StockDay\n",
    "SD.get_now_date()\n",
    "SD.get_weekdays(SD.get_now_date())"
   ]
  },
  {
   "cell_type": "code",
   "execution_count": null,
   "metadata": {},
   "outputs": [],
   "source": []
  }
 ],
 "metadata": {
  "kernelspec": {
   "display_name": "Python 3",
   "language": "python",
   "name": "python3"
  },
  "language_info": {
   "codemirror_mode": {
    "name": "ipython",
    "version": 3
   },
   "file_extension": ".py",
   "mimetype": "text/x-python",
   "name": "python",
   "nbconvert_exporter": "python",
   "pygments_lexer": "ipython3",
   "version": "3.11.8"
  }
 },
 "nbformat": 4,
 "nbformat_minor": 2
}
